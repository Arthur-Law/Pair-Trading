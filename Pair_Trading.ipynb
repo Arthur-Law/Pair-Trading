{
 "cells": [
  {
   "cell_type": "markdown",
   "metadata": {},
   "source": [
    "# SG Reits + STI pair trading model\n",
    "\n",
    "For this strategy, we will be backtesting pair trading, a popular statistical abritrage model. In order to do so, we will first normalize the price series. Next, at the start of every month, we will screen out stocks that have deviated and came back to the mean at least 4 times in the previous year, before screening them based on their euclidean distance to select the top 20 stocks. In the following one month, if the ratio between these two stocks deviates from the mean by more than 2 standard deviations, we will short/long the ratio accordingly.   \n",
    "\n",
    "Before we begin, we will define some helper functions to help us to download and process the data from yahoo finance."
   ]
  },
  {
   "cell_type": "markdown",
   "metadata": {},
   "source": [
    "## Downloading and processing the data"
   ]
  },
  {
   "cell_type": "code",
   "execution_count": 10,
   "metadata": {},
   "outputs": [],
   "source": [
    "# We hate warnings\n",
    "import warnings\n",
    "warnings.simplefilter('ignore')\n",
    "\n",
    "from pandas_datareader import data as pdr\n",
    "import fix_yahoo_finance as yf\n",
    "import pandas as pd\n",
    "import numpy as np\n",
    "from pandas.tseries.offsets import BDay\n",
    "from scipy.stats import rankdata\n",
    "import matplotlib.pyplot as plt\n",
    "import seaborn as sns"
   ]
  },
  {
   "cell_type": "code",
   "execution_count": 11,
   "metadata": {},
   "outputs": [],
   "source": [
    "def get_yahoo_data(names, tickers, start, end):\n",
    "    # Pass in a list of stock tickers together with a list of user defined stock names\n",
    "    # the function will fetch the daily OHLC data of that stock ticker from yahoo and \n",
    "    # return it in a dictionary with the name as the key, and the daily stock data \n",
    "    # in a dataframe as the value.\n",
    "    \n",
    "    # Override existing pandas yahoo api\n",
    "    yf.pdr_override()\n",
    "    \n",
    "    # Create an empty dictionary\n",
    "    d = {}\n",
    "    \n",
    "    # Reindex our columns\n",
    "    cols = ['Open', 'High', 'Low', 'Close', 'Volume', 'Adj Close']\n",
    "    \n",
    "    # Iterate through the names and tickers\n",
    "    for name, ticker in zip(names, tickers):\n",
    "        df = pdr.get_data_yahoo(ticker, start=start, \n",
    "                                  end=end)\n",
    "        df = df.reindex(columns=cols)\n",
    "        d[name] = df\n",
    "    \n",
    "    return d"
   ]
  },
  {
   "cell_type": "code",
   "execution_count": 12,
   "metadata": {},
   "outputs": [],
   "source": [
    "def standardize_index(raw_dict, start, end, method='ffill'):\n",
    "    # Pass in a dictionary, with the keys as the stock names and values\n",
    "    # as the stock daily data. This function will create a master index from the\n",
    "    # start date till the end date with the list of all business days, and standardize \n",
    "    # the datetime index for all the other stocks. Moreover, by default, this function will apply forward fill\n",
    "    # for all the missing values in the dataframe after the start date of that particular\n",
    "    # stock data.\n",
    "    \n",
    "    # Create a new dictionary\n",
    "    d = {}\n",
    "    \n",
    "    # Create a master index \n",
    "    master_index = pd.date_range(start, end, freq='B')\n",
    "    \n",
    "    for key in raw_dict.keys():\n",
    "        # Get the starting day index of the stock (i.e. the day it started trading)\n",
    "        start_date_index = raw_dict[key].index[0]\n",
    "        \n",
    "        # Standardize the index\n",
    "        d[key] = raw_dict[key].reindex(master_index)\n",
    "        d[key].sort_index(inplace=True)\n",
    "            \n",
    "        # Seperate the dataframe into two seperate dataframe, before start date and after\n",
    "        # start date. For the dates after the start date, if there are NaN values, we will \n",
    "        # be using the method specified to fill in the values\n",
    "        before = d[key].loc[:start_date_index]\n",
    "        after = d[key].loc[start_date_index + BDay(1):]\n",
    "        after.fillna(method=method, inplace=True)\n",
    "        # Concatenate the matrices and assign them accordingly\n",
    "        d[key] = pd.concat([before, after]).copy()\n",
    "    \n",
    "    return d"
   ]
  },
  {
   "cell_type": "code",
   "execution_count": 13,
   "metadata": {},
   "outputs": [],
   "source": [
    "def zscore(series):\n",
    "    return (series - series.mean()) / np.std(series)"
   ]
  },
  {
   "cell_type": "code",
   "execution_count": 14,
   "metadata": {},
   "outputs": [
    {
     "name": "stdout",
     "output_type": "stream",
     "text": [
      "[*********************100%***********************]  1 of 1 downloaded\n",
      "[*********************100%***********************]  1 of 1 downloaded\n",
      "[*********************100%***********************]  1 of 1 downloaded\n",
      "[*********************100%***********************]  1 of 1 downloaded\n",
      "[*********************100%***********************]  1 of 1 downloaded\n",
      "[*********************100%***********************]  1 of 1 downloaded\n",
      "[*********************100%***********************]  1 of 1 downloaded\n",
      "[*********************100%***********************]  1 of 1 downloaded\n",
      "[*********************100%***********************]  1 of 1 downloaded\n",
      "[*********************100%***********************]  1 of 1 downloaded\n",
      "[*********************100%***********************]  1 of 1 downloaded\n",
      "[*********************100%***********************]  1 of 1 downloaded\n",
      "[*********************100%***********************]  1 of 1 downloaded\n",
      "[*********************100%***********************]  1 of 1 downloaded\n",
      "[*********************100%***********************]  1 of 1 downloaded\n",
      "[*********************100%***********************]  1 of 1 downloaded\n",
      "[*********************100%***********************]  1 of 1 downloaded\n",
      "[*********************100%***********************]  1 of 1 downloaded\n",
      "[*********************100%***********************]  1 of 1 downloaded\n",
      "[*********************100%***********************]  1 of 1 downloaded\n",
      "[*********************100%***********************]  1 of 1 downloaded\n",
      "[*********************100%***********************]  1 of 1 downloaded\n",
      "[*********************100%***********************]  1 of 1 downloaded\n",
      "[*********************100%***********************]  1 of 1 downloaded\n",
      "[*********************100%***********************]  1 of 1 downloaded\n",
      "[*********************100%***********************]  1 of 1 downloaded\n",
      "[*********************100%***********************]  1 of 1 downloaded\n",
      "[*********************100%***********************]  1 of 1 downloaded\n",
      "[*********************100%***********************]  1 of 1 downloaded\n",
      "[*********************100%***********************]  1 of 1 downloaded\n",
      "[*********************100%***********************]  1 of 1 downloaded\n",
      "[*********************100%***********************]  1 of 1 downloaded\n",
      "[*********************100%***********************]  1 of 1 downloaded\n",
      "[*********************100%***********************]  1 of 1 downloaded\n",
      "[*********************100%***********************]  1 of 1 downloaded\n",
      "[*********************100%***********************]  1 of 1 downloaded\n",
      "[*********************100%***********************]  1 of 1 downloaded\n",
      "[*********************100%***********************]  1 of 1 downloaded\n",
      "[*********************100%***********************]  1 of 1 downloaded\n",
      "[*********************100%***********************]  1 of 1 downloaded\n",
      "[*********************100%***********************]  1 of 1 downloaded\n",
      "[*********************100%***********************]  1 of 1 downloaded\n",
      "[*********************100%***********************]  1 of 1 downloaded\n",
      "[*********************100%***********************]  1 of 1 downloaded\n",
      "[*********************100%***********************]  1 of 1 downloaded\n",
      "[*********************100%***********************]  1 of 1 downloaded\n",
      "[*********************100%***********************]  1 of 1 downloaded\n",
      "[*********************100%***********************]  1 of 1 downloaded\n",
      "[*********************100%***********************]  1 of 1 downloaded\n",
      "[*********************100%***********************]  1 of 1 downloaded\n",
      "[*********************100%***********************]  1 of 1 downloaded\n",
      "[*********************100%***********************]  1 of 1 downloaded\n",
      "[*********************100%***********************]  1 of 1 downloaded\n",
      "[*********************100%***********************]  1 of 1 downloaded\n",
      "[*********************100%***********************]  1 of 1 downloaded\n",
      "[*********************100%***********************]  1 of 1 downloaded\n",
      "[*********************100%***********************]  1 of 1 downloaded\n",
      "[*********************100%***********************]  1 of 1 downloaded\n",
      "[*********************100%***********************]  1 of 1 downloaded\n"
     ]
    }
   ],
   "source": [
    "# Create a list of stocks and their respective tickers\n",
    "reit_names = ['AIMS', 'Ascendas', 'Ascendas_Hos', 'Ascott', 'BHG', 'Cache', 'Captland_Comm',\n",
    "         'Captland_Mall', 'Captret_China', 'CDL_Hos', 'Cromwell', 'EC_World',\n",
    "         'ESR', 'Far_East_Hos', 'First', 'Frasers_Cpoint', 'Fraser_Comm', 'Frasers_Hos', 'Frasers_Log',\n",
    "         'IREIT', 'Keppel_Dc', 'Keppel', 'Lippo_Mall', 'Mapletree_Comm', 'Mapletree_Gcc',\n",
    "         'Mapletree_Ind', 'Mapletree_Log', 'OUE_Comm', 'OUE_Hos', 'Parkway', 'Sabana',\n",
    "         'Soilbuild', 'SPH', 'Starhill', 'Suntec', 'Viva']\n",
    "\n",
    "reit_tickers = ['O5RU.SI', 'A17U.SI', 'Q1P.SI', 'A68U.SI', 'BMGU.SI', 'K2LU.SI', 'C61U.SI', \n",
    "           'C38U.SI', 'AU8U.SI', 'J85.SI', 'CNNU.SI', 'BWCU.SI', 'J91U.SI', \n",
    "           'Q5T.SI', 'AW9U.SI', 'J69U.SI', 'ND8U.SI', 'ACV.SI', 'BUOU.SI', 'UD1U.SI', \n",
    "           'AJBU.SI', 'K71U.SI', 'D5IU.SI', 'N2IU.SI', 'RW0U.SI', 'ME8U.SI', 'M44U.SI',\n",
    "          'TS0U.SI', 'SK7.SI', 'C2PU.SI', 'M1GU.SI', 'SV3U.SI', 'SK6U.SI', 'P40U.SI',\n",
    "          'T82U.SI', 'T8B.SI']\n",
    "\n",
    "\n",
    "index_names = ['STI', 'OCBC', 'Capitaland', 'CityDev', 'ComfortDelGro', 'DBS', 'Genting', 'Golden_Agri', 'Jardine_C&C',\n",
    "             'Keppel_Corp', 'SATS', 'Sembcorp_Ind', 'SGX', 'SIA', 'Singtel', 'Singapore_Press', 'ST_Engineering',\n",
    "             'Starhub', 'UOB', 'UOL', 'Venture', 'Wilmar', 'YZJ']\n",
    "\n",
    "index_tickers = ['ES3.SI', 'O39.SI', 'C31.SI', 'C09.SI', 'C52.SI', 'D05.SI', 'G13.SI', 'E5H.SI', 'C07.SI', 'BN4.SI', \n",
    "               'S58.SI', 'U96.SI', 'S68.SI', 'C6L.SI', 'Z74.SI', 'T39.SI', 'S63.SI', 'CC3.SI', 'U14.SI', 'U14.SI', \n",
    "               'V03.SI', 'F34.SI', 'BS6.SI']\n",
    "\n",
    "# Set the start date and the end date for our data\n",
    "start = '2008-01-01'\n",
    "end = '2017-12-31'\n",
    "\n",
    "names = reit_names + index_names\n",
    "tickers = reit_tickers + index_tickers\n",
    "\n",
    "# Time to use our helper functions\n",
    "reits_raw = get_yahoo_data(names=names, tickers=tickers, start=start, end=end)"
   ]
  },
  {
   "cell_type": "code",
   "execution_count": 15,
   "metadata": {},
   "outputs": [],
   "source": [
    "# Standardize the index\n",
    "reits_standardized = standardize_index(reits_raw, start=start, end=end)"
   ]
  },
  {
   "cell_type": "code",
   "execution_count": 16,
   "metadata": {},
   "outputs": [],
   "source": [
    "# Create a training set for reits\n",
    "train_df = pd.DataFrame()\n",
    "\n",
    "for n in names:\n",
    "    reits_standardized[n]['Signal'] = 0\n",
    "    reits_standardized[n]['Z_Cross'] = 0\n",
    "    train_df[n] = reits_standardized[n]['Adj Close']['2016-12-01':'2017-11-30'].dropna()"
   ]
  },
  {
   "cell_type": "code",
   "execution_count": 17,
   "metadata": {},
   "outputs": [],
   "source": [
    "# Create our test set for reits\n",
    "test_df = pd.DataFrame()\n",
    " \n",
    "for n in names:\n",
    "    test_df[n] = reits_standardized[n]['Adj Close']['2016-12-31':'2017-12-31'].dropna()"
   ]
  },
  {
   "cell_type": "markdown",
   "metadata": {},
   "source": [
    "## Spread-mean crossing\n",
    "\n",
    "Now, the euclidian distance strategy has shown to be useful in the past, but its profitability has been declining in recent years. There has been a new paper that we are interested in, using spread-mean crossing as a primary criteria (typically at least 4 crossing), then using the euclidian distance as a secondary criteria. Moreover, this strategy emphasizes on selecting quality stocks with low volatility, or selecting stocks within the same industry group (e.g. utilities). \n",
    "\n",
    "For our preliminary analysis, we will be focusing on the SG reits + STI index."
   ]
  },
  {
   "cell_type": "markdown",
   "metadata": {},
   "source": [
    "### Mean-spread crossing\n",
    "\n",
    "First and foremost, the most difficult task I am facing is how to write a function that calculates the number of mean-spread crossing over the lookback period. Let's try to figure that out first O.o. "
   ]
  },
  {
   "cell_type": "code",
   "execution_count": 18,
   "metadata": {},
   "outputs": [],
   "source": [
    "def oor(s):\n",
    "    above = s.apply(lambda x: x >= s.mean() + 2 * s.std()).astype(int)\n",
    "    below = s.apply(lambda x: x < s.mean() - 2 * s.std()).astype(int)\n",
    "    out_of_range = above + below\n",
    "    \n",
    "    return out_of_range"
   ]
  },
  {
   "cell_type": "code",
   "execution_count": 19,
   "metadata": {},
   "outputs": [],
   "source": [
    "def z_crossing(s):\n",
    "    \n",
    "    shifted_val = s.shift(1)\n",
    "\n",
    "    # Panda series containing boolean variables documenting whether the spread was above the mean yesterday\n",
    "    above_shifted_val = shifted_val.apply(lambda x: x >= s.mean()).astype(int)\n",
    "    # Panda series containing boolean variables documenting whether the spread is below the mean today\n",
    "    below_newratio = s.apply(lambda x: x <= s.mean()).astype(int)\n",
    "    # Panda series containing boolean variables documenting whether there was a crossing of the mean from above\n",
    "    crossing_from_above = above_shifted_val * below_newratio \n",
    "\n",
    "    # Panda series containing boolean variables documenting whether the spread was below the mean yesterday\n",
    "    below_shifted_val = shifted_val.apply(lambda x: x <= s.mean()).astype(int)\n",
    "    # Panda series containing boolean variables documenting whether the spread is above the mean today\n",
    "    above_newratio = s.apply(lambda x: x >= s.mean()).astype(int)\n",
    "    # Panda series containing boolean variables documenting whether there was a crossing of the mean from above\n",
    "    crossing_from_below = below_shifted_val * above_newratio \n",
    "\n",
    "    # Sum up the crossing from above and crossing from below\n",
    "    zero_crossing = crossing_from_above + crossing_from_below\n",
    "    \n",
    "    return zero_crossing"
   ]
  },
  {
   "cell_type": "code",
   "execution_count": 20,
   "metadata": {},
   "outputs": [],
   "source": [
    "def number_of_crossings(s):\n",
    "    \n",
    "    out_of_range = oor(s)\n",
    "    zero_crossing = z_crossing(s)\n",
    "    \n",
    "    # Combine the out of range series and zero crossing series into a single pandas dataframe\n",
    "    new_df = pd.DataFrame()\n",
    "    new_df['oor'] = out_of_range\n",
    "    new_df['zero_crossing'] = zero_crossing\n",
    "\n",
    "    active = 0\n",
    "    count = 0\n",
    "\n",
    "    for index, row in new_df.iterrows():\n",
    "    \n",
    "        # If the stock is not outside the prescribed range, continue the loop\n",
    "        if active == 0:\n",
    "            active = row['oor']\n",
    "    \n",
    "        # Else, if the stock is outside the prescribed range, record a crossing once a zero crossing \n",
    "        # takes place\n",
    "        elif active == 1:\n",
    "            if row['zero_crossing'] == 1:\n",
    "                count += 1\n",
    "                active = 0\n",
    "                \n",
    "    return count"
   ]
  },
  {
   "cell_type": "code",
   "execution_count": 21,
   "metadata": {},
   "outputs": [],
   "source": [
    "def pairs_with_min_m_crossings(m, data):\n",
    "    n = data.shape[1]\n",
    "    score_matrix = np.zeros((n, n))\n",
    "    keys = data.keys()\n",
    "    pairs = []\n",
    "    for i in range(n):\n",
    "        for j in range(i+1, n):\n",
    "            S1 = data[data.columns[i]]\n",
    "            S2 = data[data.columns[j]]\n",
    "            norm_S1 = S1/S1.mean()\n",
    "            norm_S2 = S2/S2.mean()\n",
    "            newratio = norm_S1/norm_S2\n",
    "            score = number_of_crossings(newratio)\n",
    "            score_matrix[i, j] = score\n",
    "            if score > m:\n",
    "                pairs.append((keys[i], keys[j]))\n",
    "    \n",
    "    return score_matrix, pairs"
   ]
  },
  {
   "cell_type": "markdown",
   "metadata": {},
   "source": [
    "## Lowest distance\n",
    "\n",
    "Now we will be writing a function to select the top m pairs who have had the closest distance between their normalized prices over our lookback period."
   ]
  },
  {
   "cell_type": "code",
   "execution_count": 22,
   "metadata": {},
   "outputs": [],
   "source": [
    "def lowest_n_distance_pairs(m, data, pairs):\n",
    "    n = len(pairs)\n",
    "    score_matrix = np.zeros((n))\n",
    "    for i in range(n):\n",
    "        p = pairs[i]\n",
    "        S1 = data[p[0]]\n",
    "        S2 = data[p[1]]\n",
    "        norm_S1 = S1/S1.mean()\n",
    "        norm_S2 = S2/S2.mean()\n",
    "        score = (((norm_S1 - norm_S2) ** 2) ** (1/2)).sum()\n",
    "        score_matrix[i] = score\n",
    "    \n",
    "    index = score_matrix.argsort()[:m]\n",
    "    sel_pairs = np.asarray(pairs)[index].tolist()\n",
    "    return score_matrix, sel_pairs"
   ]
  },
  {
   "cell_type": "markdown",
   "metadata": {},
   "source": [
    "Here is an example of a stock pair that we are looking for. As seen from the chart, during Jan 2017 to Dec 2017, the price ratio between BHG and Mapletree_Industrial has went out of the 2 standard deviation band, before returning to the mean 4 times. Therefore, we can consider trading this pair in the following month, Jan 2018."
   ]
  },
  {
   "cell_type": "code",
   "execution_count": 15,
   "metadata": {},
   "outputs": [
    {
     "data": {
      "image/png": "[encoded data removed]",
      "text/plain": [
       "<Figure size 1152x432 with 1 Axes>"
      ]
     },
     "metadata": {},
     "output_type": "display_data"
    }
   ],
   "source": [
    "old_S1 = train_df['BHG']\n",
    "old_S2 = train_df['Mapletree_Ind']\n",
    "old_norm_S1 = old_S1/old_S1.mean()\n",
    "old_norm_S2 = old_S2/old_S2.mean()\n",
    "old_ratio = old_norm_S1/old_norm_S2\n",
    "\n",
    "new_S1 = test_df['BHG'] \n",
    "new_S2 = test_df['Mapletree_Ind']\n",
    "new_norm_S1 = new_S1/old_S1.mean()\n",
    "new_norm_S2 = new_S2/old_S2.mean()\n",
    "new_ratio = (new_norm_S1/new_norm_S2 - old_ratio.mean())/(old_ratio.std())\n",
    "\n",
    "new_ratio.plot(figsize=(16,6))\n",
    "plt.axhline(0)\n",
    "plt.axhline(2, color='red', linestyle='--')\n",
    "plt.axhline(-2, color='green', linestyle='--')\n",
    "plt.axvline('2017-12-01', color='black', linestyle='--')\n",
    "plt.ylim(-10, 10)\n",
    "plt.show()"
   ]
  },
  {
   "cell_type": "code",
   "execution_count": 23,
   "metadata": {},
   "outputs": [],
   "source": [
    "# Create trade signals for our selected pairs\n",
    "def create_trade_signal(ratio, S1):\n",
    "    \n",
    "    position = 0\n",
    "    pos_size = 0\n",
    "    \n",
    "    signal = pd.Series(index=ratio.index)\n",
    "    actual_trade = pd.Series(index=ratio.index) \n",
    "    ratio['Prices'] = S1\n",
    "    \n",
    "    for index, row in ratio.iterrows():        \n",
    "    # If there are no open positions currently\n",
    "        if position == 0:\n",
    "            position = -row[1]\n",
    "            pos_size = position * (10/row[3])\n",
    "            signal[index] = position\n",
    "            actual_trade[index] = position * pos_size\n",
    "        \n",
    "        # If there is a position\n",
    "        else:\n",
    "            # If a zero crossing took place\n",
    "            if row[2] == 1:\n",
    "                if position == row[1]:\n",
    "                    position = -row[1] \n",
    "                    signal[index] = position * 2\n",
    "                    pos_size = pos_size + (10/row[3])\n",
    "                    actual_trade[index] = pos_size * position\n",
    "                    pos_size = 10/row[0]\n",
    "                \n",
    "                else:\n",
    "                    signal[index] = -position\n",
    "                    actual_trade[index] = -position * pos_size\n",
    "                    position = 0\n",
    "                    pos_size = 0\n",
    "    \n",
    "    signal.fillna(0, inplace=True)\n",
    "    actual_trade.fillna(0, inplace=True)\n",
    "    return signal, actual_trade"
   ]
  },
  {
   "cell_type": "code",
   "execution_count": 24,
   "metadata": {},
   "outputs": [],
   "source": [
    "# Calculate the gross pnl for each trade without transaction cost\n",
    "def calculate_PnL(data):\n",
    "    pl = 0\n",
    "    gross = (-data['Adj Close'] * data['Trades']).sum()\n",
    "    \n",
    "    if data['Trades'].sum() == 0:\n",
    "        pl = gross \n",
    "    \n",
    "    else:\n",
    "        pl = gross + (data['Trades'].sum() * data['Adj Close'].tail(1)[0])\n",
    "    \n",
    "    return pl"
   ]
  },
  {
   "cell_type": "code",
   "execution_count": 25,
   "metadata": {},
   "outputs": [],
   "source": [
    "# Calculate the overall pnl for our backtest\n",
    "def calculate_overall_pnl(data, pairs, start, train_end, end):\n",
    "\n",
    "    overall_pnl = 0\n",
    "    \n",
    "    for pair in pairs:\n",
    "    \n",
    "        # Create the old time series because we need the mean and the std\n",
    "        old_S1 = data[pair[0]]['Adj Close'][start:train_end]\n",
    "        old_S2 = data[pair[1]]['Adj Close'][start:train_end]\n",
    "        norm_old_S1 = old_S1/old_S1.mean()\n",
    "        norm_old_S2 = old_S2/old_S2.mean()\n",
    "        old_ratio = norm_old_S1/norm_old_S2\n",
    "\n",
    "        # Create the time series for the period that we are interested in\n",
    "        S1 = pd.DataFrame(data[pair[0]]['Adj Close'][train_end:end]) \n",
    "        S2 = pd.DataFrame(data[pair[1]]['Adj Close'][train_end:end])\n",
    "        norm_S1 = S1/old_S1.mean() \n",
    "        norm_S2 = S2/old_S2.mean()\n",
    "    \n",
    "        # Calculate the ratio using the old mean and std\n",
    "        ratio = pd.DataFrame(((norm_S1/norm_S2) - old_ratio.mean())/(old_ratio.std()))\n",
    "        ratio['Out_of_range'] = 0\n",
    "    \n",
    "        # Define a new series stating whether the ratio is above or below 2 std\n",
    "        above_range = ratio['Adj Close'].apply(lambda x: x > 2).astype(int)\n",
    "        below_range = ratio['Adj Close'].apply(lambda x: x < -2).astype(int)\n",
    "    \n",
    "        # Modify the positions column accordingly\n",
    "        ratio['Out_of_range'] = ratio['Out_of_range'].add(above_range)\n",
    "        ratio['Out_of_range'] = ratio['Out_of_range'].subtract(below_range)\n",
    "    \n",
    "        shifted_val = ratio['Adj Close'].shift(1)\n",
    "\n",
    "        # Panda series containing boolean variables documenting whether the spread was above the mean yesterday\n",
    "        above_shifted_val = shifted_val.apply(lambda x: x >= 0).astype(int)\n",
    "        # Panda series containing boolean variables documenting whether the spread is below the mean today\n",
    "        below_newratio = ratio['Adj Close'].apply(lambda x: x <= 0).astype(int)\n",
    "        # Panda series containing boolean variables documenting whether there was a crossing of the mean from above\n",
    "        crossing_from_above = above_shifted_val * below_newratio \n",
    "\n",
    "        # Panda series containing boolean variables documenting whether the spread was below the mean yesterday\n",
    "        below_shifted_val = shifted_val.apply(lambda x: x <= 0).astype(int)\n",
    "        # Panda series containing boolean variables documenting whether the spread is above the mean today\n",
    "        above_newratio = ratio['Adj Close'].apply(lambda x: x >= 0).astype(int)\n",
    "        # Panda series containing boolean variables documenting whether there was a crossing of the mean from above\n",
    "        crossing_from_below = below_shifted_val * above_newratio \n",
    "\n",
    "        # Sum up the crossing from above and crossing from below\n",
    "        zero_crossing = crossing_from_above + crossing_from_below\n",
    "        ratio['Z_cross'] = zero_crossing\n",
    "    \n",
    "        # Create the trade signals for S1 and S2\n",
    "        S1_signal, S1_actual_trade = create_trade_signal(ratio, S1)\n",
    "        S1['Trades'] = S1_actual_trade\n",
    "    \n",
    "        S2_signal, S2_actual_trade = create_trade_signal(ratio, S2)\n",
    "        S2['Trades'] = -S2_actual_trade\n",
    "    \n",
    "        # Calculate the final pnl\n",
    "        pnl = calculate_PnL(S1) + calculate_PnL(S2)\n",
    "        overall_pnl +=pnl\n",
    "        \n",
    "    return overall_pnl"
   ]
  },
  {
   "cell_type": "markdown",
   "metadata": {},
   "source": [
    "## Start of our backtest\n",
    "\n",
    "Assumptions:\n",
    "- No trading cost\n",
    "- Backtest period from Jan 2009 to Dec 2017\n",
    "- Select the top 20 pairs and rebalance monthly"
   ]
  },
  {
   "cell_type": "code",
   "execution_count": 26,
   "metadata": {},
   "outputs": [],
   "source": [
    "# Define the start and the end of our backtest\n",
    "start_date_range = pd.date_range(start, end, \n",
    "                                   freq='BMS', tz='Asia/Singapore')\n",
    "\n",
    "end_date_range = pd.date_range(start, end,\n",
    "                               freq='BM', tz='Asia/Singapore')"
   ]
  },
  {
   "cell_type": "code",
   "execution_count": 27,
   "metadata": {},
   "outputs": [],
   "source": [
    "# Function to backtest our complete strategy\n",
    "def pair_trading_full_backtest(data, names):\n",
    "    \n",
    "    full_results = pd.Series()\n",
    "    \n",
    "    for i in range(len(start_date_range) - 12):\n",
    "        \n",
    "        # Define start, train_end and end dates\n",
    "        start = start_date_range[0+i]\n",
    "        train_end = end_date_range[11+i]\n",
    "        end = end_date_range[12+i]\n",
    "        \n",
    "        # Create a training set\n",
    "        new_train_df = pd.DataFrame()\n",
    "        for n in names:\n",
    "            new_train_df[n] = data[n]['Adj Close'][start:train_end].dropna()\n",
    "        \n",
    "        # First filter pairs with at least 4 crossovers during the formation period\n",
    "        score, min_crossing = pairs_with_min_m_crossings(3, new_train_df)\n",
    "        \n",
    "        # Out of the filtered pairs, select the 20 with the lowest distance\n",
    "        score_matrix, sel_pairs = lowest_n_distance_pairs(20, new_train_df,\n",
    "                                                  min_crossing)\n",
    "        \n",
    "        # Calculate the month's pnl for the selected pairs\n",
    "        pnl = calculate_overall_pnl(data, sel_pairs, start, train_end, end)\n",
    "        \n",
    "        # Record the month's pnl\n",
    "        full_results[end] = pnl\n",
    "        \n",
    "    return full_results, sel_pairs"
   ]
  },
  {
   "cell_type": "code",
   "execution_count": 28,
   "metadata": {},
   "outputs": [],
   "source": [
    "full_results, n_sel_pairs = pair_trading_full_backtest(reits_standardized, names)"
   ]
  },
  {
   "cell_type": "markdown",
   "metadata": {},
   "source": [
    "## Backtest results"
   ]
  },
  {
   "cell_type": "code",
   "execution_count": 29,
   "metadata": {},
   "outputs": [
    {
     "data": {
      "text/plain": [
       "<matplotlib.axes._subplots.AxesSubplot at 0x1fbe6f52be0>"
      ]
     },
     "execution_count": 29,
     "metadata": {},
     "output_type": "execute_result"
    },
    {
     "data": {
      "image/png": "[encoded data removed]",
      "text/plain": [
       "<Figure size 432x288 with 1 Axes>"
      ]
     },
     "metadata": {},
     "output_type": "display_data"
    }
   ],
   "source": [
    "full_results.cumsum().plot()"
   ]
  },
  {
   "cell_type": "code",
   "execution_count": null,
   "metadata": {},
   "outputs": [],
   "source": []
  }
 ],
 "metadata": {
  "kernelspec": {
   "display_name": "Python (finance)",
   "language": "python",
   "name": "finance"
  },
  "language_info": {
   "codemirror_mode": {
    "name": "ipython",
    "version": 3
   },
   "file_extension": ".py",
   "mimetype": "text/x-python",
   "name": "python",
   "nbconvert_exporter": "python",
   "pygments_lexer": "ipython3",
   "version": "3.5.5"
  }
 },
 "nbformat": 4,
 "nbformat_minor": 2
}
